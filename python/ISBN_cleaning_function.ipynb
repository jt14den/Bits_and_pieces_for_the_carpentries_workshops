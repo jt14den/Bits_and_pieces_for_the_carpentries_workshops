{
 "cells": [
  {
   "cell_type": "code",
   "execution_count": 43,
   "metadata": {},
   "outputs": [],
   "source": [
    "dirty_isbns = [\n",
    "    \" ISBN 978-1449369415 \", \n",
    "    \"ISBN___978-1491946008 \",\n",
    "    \"ISBN 978-1593276034\"]"
   ]
  },
  {
   "cell_type": "code",
   "execution_count": 44,
   "metadata": {},
   "outputs": [],
   "source": [
    "def clean_isbn():\n",
    "    isbn = \" ISBN 978-1449369415 \"\n",
    "    print(isbn)\n",
    "# .. nothing happening (as the function is not called)"
   ]
  },
  {
   "cell_type": "code",
   "execution_count": 45,
   "metadata": {},
   "outputs": [
    {
     "name": "stdout",
     "output_type": "stream",
     "text": [
      " ISBN 978-1449369415 \n"
     ]
    }
   ],
   "source": [
    "def clean_isbn():\n",
    "    isbn = \" ISBN 978-1449369415 \"\n",
    "    print(isbn)\n",
    "clean_isbn() # now the function is called and we get output"
   ]
  },
  {
   "cell_type": "code",
   "execution_count": 46,
   "metadata": {},
   "outputs": [
    {
     "name": "stdout",
     "output_type": "stream",
     "text": [
      "ISBN 978-1449369415\n"
     ]
    }
   ],
   "source": [
    "def clean_isbn():\n",
    "    isbn = \" ISBN 978-1449369415 \"\n",
    "    isbn = isbn.strip()\n",
    "    print(isbn)\n",
    "clean_isbn()"
   ]
  },
  {
   "cell_type": "code",
   "execution_count": 47,
   "metadata": {},
   "outputs": [
    {
     "name": "stdout",
     "output_type": "stream",
     "text": [
      "978-1449369415\n"
     ]
    }
   ],
   "source": [
    "def clean_isbn():\n",
    "    isbn = \" ISBN 978-1449369415 \"\n",
    "    isbn = isbn.replace(\"ISBN\", \"\")\n",
    "    isbn = isbn.strip()    \n",
    "    print(isbn)\n",
    "clean_isbn()\n",
    "\n",
    "# ... works so far only for the one given ISBN"
   ]
  },
  {
   "cell_type": "code",
   "execution_count": 48,
   "metadata": {},
   "outputs": [
    {
     "name": "stdout",
     "output_type": "stream",
     "text": [
      "978-1449369415\n"
     ]
    }
   ],
   "source": [
    "def clean_isbn(isbn):\n",
    "    isbn = isbn.replace(\"ISBN\", \"\")\n",
    "    isbn = isbn.strip()    \n",
    "    print(isbn) \n",
    "clean_isbn(\" ISBN 978-1449369415 \")\n",
    "\n",
    "# so far we can only print the result"
   ]
  },
  {
   "cell_type": "code",
   "execution_count": 49,
   "metadata": {},
   "outputs": [
    {
     "name": "stdout",
     "output_type": "stream",
     "text": [
      "978-1449369415\n"
     ]
    }
   ],
   "source": [
    "# Now we get a return value that can be stored in a variable\n",
    "def clean_isbn(isbn):\n",
    "    isbn = isbn.replace(\"ISBN\", \"\")\n",
    "    isbn = isbn.strip()    \n",
    "    return isbn \n",
    "cleaned_isbn = clean_isbn(\" ISBN 978-1449369415 \")\n",
    "print(cleaned_isbn)"
   ]
  },
  {
   "cell_type": "code",
   "execution_count": 50,
   "metadata": {},
   "outputs": [
    {
     "name": "stdout",
     "output_type": "stream",
     "text": [
      "978-1449369415\n",
      "___978-1491946008\n",
      "978-1593276034\n"
     ]
    }
   ],
   "source": [
    "# Let's run this for all ISBN strings\n",
    "\n",
    "for isbn in dirty_isbns:\n",
    "    cleaned_isbn = clean_isbn(isbn)\n",
    "    print(cleaned_isbn)\n",
    "    \n",
    "# ... needs further adapatoin"
   ]
  },
  {
   "cell_type": "code",
   "execution_count": 51,
   "metadata": {},
   "outputs": [
    {
     "name": "stdout",
     "output_type": "stream",
     "text": [
      "978-1449369415\n",
      "978-1491946008\n",
      "978-1593276034\n"
     ]
    }
   ],
   "source": [
    "def clean_isbn(isbn):\n",
    "    isbn = isbn.replace(\"ISBN\", \"\")\n",
    "    isbn = isbn.replace(\"_\", \"\")\n",
    "    isbn = isbn.strip()  \n",
    "    return isbn \n",
    "\n",
    "for isbn in dirty_isbns:\n",
    "    cleaned_isbn = clean_isbn(isbn)\n",
    "    print(cleaned_isbn)"
   ]
  }
 ],
 "metadata": {
  "kernelspec": {
   "display_name": "Python 3",
   "language": "python",
   "name": "python3"
  },
  "language_info": {
   "codemirror_mode": {
    "name": "ipython",
    "version": 3
   },
   "file_extension": ".py",
   "mimetype": "text/x-python",
   "name": "python",
   "nbconvert_exporter": "python",
   "pygments_lexer": "ipython3",
   "version": "3.7.3"
  }
 },
 "nbformat": 4,
 "nbformat_minor": 2
}
